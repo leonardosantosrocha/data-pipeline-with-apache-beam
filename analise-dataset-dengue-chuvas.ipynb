{
 "cells": [
  {
   "attachments": {},
   "cell_type": "markdown",
   "metadata": {},
   "source": [
    "<h3>Objetivo: Desenvolver uma análise exploratória dos dados sobre o índice de precipitação de chuvas e quantidade de casos de dengue.</h3>"
   ]
  },
  {
   "attachments": {},
   "cell_type": "markdown",
   "metadata": {},
   "source": [
    "<p>Atenção</p> \n",
    "\n",
    "<p>1. Todos os dados apresentados são fictícios e não representam informações do mundo real.</p> \n",
    "\n",
    "<p>2. A proposta inicial do projeto era a construção de um pipeline de dados com a biblioteca Apache Beam. Como complemento, foi apresentada a proposta de fazer uma análise exploratória dos dados reforçando o aprendizado das bibliotecas Pandas (para tratamento) e Matplotlib (para visualização) dos dados.</p>"
   ]
  },
  {
   "attachments": {},
   "cell_type": "markdown",
   "metadata": {},
   "source": [
    "<p>Referências utilizadas para desenvolvimento da análise</p>\n",
    "\n",
    "\n",
    "<a style=\"color:lightgrey\" href=\"https://pandas.pydata.org/docs/reference/general_functions.html\">1. Tratando dados com pandas</a>\n",
    "\n",
    "<a style=\"color:lightgrey\" href=\"https://matplotlib.org/stable/gallery/lines_bars_and_markers/index.html\">2. Visualizando dados com matplolib</a>"
   ]
  },
  {
   "attachments": {},
   "cell_type": "markdown",
   "metadata": {},
   "source": [
    "<p>Documentação dos atributos, datatypes, descrição e exemplo dos dados presentes na base de dados</p>\n",
    "\n",
    "<table>\n",
    "    <tr>\n",
    "        <td>atributo</td>\n",
    "        <td>tipo de dado</td>\n",
    "        <td>descrição</td>\n",
    "        <td>exemplo</td>\n",
    "    </tr>\n",
    "    <tr>\n",
    "        <td>uf</td>\n",
    "        <td>string</td>\n",
    "        <td>a unidade federativa</td>\n",
    "        <td>SP</td>\n",
    "    </tr>\n",
    "    <tr>\n",
    "        <td>ano</td>\n",
    "        <td>int</td>\n",
    "        <td>o ano de coleta dos dados mm_chuva e casos_dengue</td>\n",
    "        <td>2015</td>\n",
    "    </tr>\n",
    "    <tr>\n",
    "        <td>mes</td>\n",
    "        <td>int</td>\n",
    "        <td>o mês de coleta dos dados mm_chuva e casos_dengue</td>\n",
    "        <td>1</td>\n",
    "    </tr>\n",
    "    <tr>\n",
    "        <td>mm_chuva</td>\n",
    "        <td>float</td>\n",
    "        <td>o índice de precipitação de chuvas em milímetros</td>\n",
    "        <td>4465.0</td>\n",
    "    </tr>\n",
    "    <tr>\n",
    "        <td>casos_dengue</td>\n",
    "        <td>float</td>\n",
    "        <td>o número de casos de dengue</td>\n",
    "        <td>772.0</td>\n",
    "    </tr>\n",
    "</table>"
   ]
  },
  {
   "attachments": {},
   "cell_type": "markdown",
   "metadata": {},
   "source": [
    "<p>Importando as bibliotecas para análise, tratamento e visualização de dados</p>"
   ]
  },
  {
   "cell_type": "code",
   "execution_count": 91,
   "metadata": {},
   "outputs": [],
   "source": [
    "import pandas as pd\n",
    "import numpy as np\n",
    "import matplotlib.pyplot as plt"
   ]
  },
  {
   "attachments": {},
   "cell_type": "markdown",
   "metadata": {},
   "source": [
    "<p>Apresentando uma amostra da base de dados</p>"
   ]
  },
  {
   "cell_type": "code",
   "execution_count": 92,
   "metadata": {},
   "outputs": [
    {
     "data": {
      "text/html": [
       "<div>\n",
       "<style scoped>\n",
       "    .dataframe tbody tr th:only-of-type {\n",
       "        vertical-align: middle;\n",
       "    }\n",
       "\n",
       "    .dataframe tbody tr th {\n",
       "        vertical-align: top;\n",
       "    }\n",
       "\n",
       "    .dataframe thead th {\n",
       "        text-align: right;\n",
       "    }\n",
       "</style>\n",
       "<table border=\"1\" class=\"dataframe\">\n",
       "  <thead>\n",
       "    <tr style=\"text-align: right;\">\n",
       "      <th></th>\n",
       "      <th>uf</th>\n",
       "      <th>ano</th>\n",
       "      <th>mes</th>\n",
       "      <th>mm_chuva</th>\n",
       "      <th>casos_dengue</th>\n",
       "    </tr>\n",
       "  </thead>\n",
       "  <tbody>\n",
       "    <tr>\n",
       "      <th>0</th>\n",
       "      <td>SP</td>\n",
       "      <td>2015</td>\n",
       "      <td>1</td>\n",
       "      <td>4465.0</td>\n",
       "      <td>772.0</td>\n",
       "    </tr>\n",
       "    <tr>\n",
       "      <th>1</th>\n",
       "      <td>SP</td>\n",
       "      <td>2015</td>\n",
       "      <td>2</td>\n",
       "      <td>6595.0</td>\n",
       "      <td>3086.0</td>\n",
       "    </tr>\n",
       "    <tr>\n",
       "      <th>2</th>\n",
       "      <td>SP</td>\n",
       "      <td>2015</td>\n",
       "      <td>3</td>\n",
       "      <td>6210.6</td>\n",
       "      <td>8824.0</td>\n",
       "    </tr>\n",
       "    <tr>\n",
       "      <th>3</th>\n",
       "      <td>SP</td>\n",
       "      <td>2015</td>\n",
       "      <td>4</td>\n",
       "      <td>1862.0</td>\n",
       "      <td>9932.0</td>\n",
       "    </tr>\n",
       "    <tr>\n",
       "      <th>4</th>\n",
       "      <td>SP</td>\n",
       "      <td>2015</td>\n",
       "      <td>5</td>\n",
       "      <td>2756.6</td>\n",
       "      <td>8919.0</td>\n",
       "    </tr>\n",
       "  </tbody>\n",
       "</table>\n",
       "</div>"
      ],
      "text/plain": [
       "   uf   ano  mes  mm_chuva  casos_dengue\n",
       "0  SP  2015    1    4465.0         772.0\n",
       "1  SP  2015    2    6595.0        3086.0\n",
       "2  SP  2015    3    6210.6        8824.0\n",
       "3  SP  2015    4    1862.0        9932.0\n",
       "4  SP  2015    5    2756.6        8919.0"
      ]
     },
     "execution_count": 92,
     "metadata": {},
     "output_type": "execute_result"
    }
   ],
   "source": [
    "data = pd.read_csv(\"resultado_csv-00000-of-00001.csv\", delimiter = \";\")\n",
    "data.head(5)"
   ]
  },
  {
   "attachments": {},
   "cell_type": "markdown",
   "metadata": {},
   "source": [
    "<p>Somando as precipitações e casos de dengue e agrupando os dados por UF e ano</p>"
   ]
  },
  {
   "cell_type": "code",
   "execution_count": 93,
   "metadata": {},
   "outputs": [
    {
     "data": {
      "text/html": [
       "<div>\n",
       "<style scoped>\n",
       "    .dataframe tbody tr th:only-of-type {\n",
       "        vertical-align: middle;\n",
       "    }\n",
       "\n",
       "    .dataframe tbody tr th {\n",
       "        vertical-align: top;\n",
       "    }\n",
       "\n",
       "    .dataframe thead th {\n",
       "        text-align: right;\n",
       "    }\n",
       "</style>\n",
       "<table border=\"1\" class=\"dataframe\">\n",
       "  <thead>\n",
       "    <tr style=\"text-align: right;\">\n",
       "      <th></th>\n",
       "      <th></th>\n",
       "      <th>mm_chuva</th>\n",
       "      <th>casos_dengue</th>\n",
       "    </tr>\n",
       "    <tr>\n",
       "      <th>uf</th>\n",
       "      <th>ano</th>\n",
       "      <th></th>\n",
       "      <th></th>\n",
       "    </tr>\n",
       "  </thead>\n",
       "  <tbody>\n",
       "    <tr>\n",
       "      <th rowspan=\"5\" valign=\"top\">CE</th>\n",
       "      <th>2015</th>\n",
       "      <td>9261.4</td>\n",
       "      <td>60171.0</td>\n",
       "    </tr>\n",
       "    <tr>\n",
       "      <th>2016</th>\n",
       "      <td>6404.4</td>\n",
       "      <td>65197.0</td>\n",
       "    </tr>\n",
       "    <tr>\n",
       "      <th>2017</th>\n",
       "      <td>9304.2</td>\n",
       "      <td>66236.0</td>\n",
       "    </tr>\n",
       "    <tr>\n",
       "      <th>2018</th>\n",
       "      <td>9575.4</td>\n",
       "      <td>12841.0</td>\n",
       "    </tr>\n",
       "    <tr>\n",
       "      <th>2019</th>\n",
       "      <td>9708.0</td>\n",
       "      <td>30711.0</td>\n",
       "    </tr>\n",
       "    <tr>\n",
       "      <th rowspan=\"5\" valign=\"top\">ES</th>\n",
       "      <th>2015</th>\n",
       "      <td>6907.8</td>\n",
       "      <td>44808.0</td>\n",
       "    </tr>\n",
       "    <tr>\n",
       "      <th>2016</th>\n",
       "      <td>8807.0</td>\n",
       "      <td>54729.0</td>\n",
       "    </tr>\n",
       "    <tr>\n",
       "      <th>2017</th>\n",
       "      <td>10846.6</td>\n",
       "      <td>12344.0</td>\n",
       "    </tr>\n",
       "    <tr>\n",
       "      <th>2018</th>\n",
       "      <td>16790.0</td>\n",
       "      <td>16890.0</td>\n",
       "    </tr>\n",
       "    <tr>\n",
       "      <th>2019</th>\n",
       "      <td>13468.2</td>\n",
       "      <td>80593.0</td>\n",
       "    </tr>\n",
       "    <tr>\n",
       "      <th rowspan=\"5\" valign=\"top\">MG</th>\n",
       "      <th>2015</th>\n",
       "      <td>53407.4</td>\n",
       "      <td>21781.0</td>\n",
       "    </tr>\n",
       "    <tr>\n",
       "      <th>2016</th>\n",
       "      <td>68198.0</td>\n",
       "      <td>78366.0</td>\n",
       "    </tr>\n",
       "    <tr>\n",
       "      <th>2017</th>\n",
       "      <td>59530.8</td>\n",
       "      <td>3484.0</td>\n",
       "    </tr>\n",
       "    <tr>\n",
       "      <th>2018</th>\n",
       "      <td>82716.0</td>\n",
       "      <td>1524.0</td>\n",
       "    </tr>\n",
       "    <tr>\n",
       "      <th>2019</th>\n",
       "      <td>67792.8</td>\n",
       "      <td>26815.0</td>\n",
       "    </tr>\n",
       "    <tr>\n",
       "      <th rowspan=\"5\" valign=\"top\">PR</th>\n",
       "      <th>2015</th>\n",
       "      <td>35853.8</td>\n",
       "      <td>96929.0</td>\n",
       "    </tr>\n",
       "    <tr>\n",
       "      <th>2016</th>\n",
       "      <td>33012.8</td>\n",
       "      <td>210436.0</td>\n",
       "    </tr>\n",
       "    <tr>\n",
       "      <th>2017</th>\n",
       "      <td>41260.6</td>\n",
       "      <td>27893.0</td>\n",
       "    </tr>\n",
       "    <tr>\n",
       "      <th>2018</th>\n",
       "      <td>32481.6</td>\n",
       "      <td>19070.0</td>\n",
       "    </tr>\n",
       "    <tr>\n",
       "      <th>2019</th>\n",
       "      <td>33106.8</td>\n",
       "      <td>113183.0</td>\n",
       "    </tr>\n",
       "    <tr>\n",
       "      <th rowspan=\"5\" valign=\"top\">RJ</th>\n",
       "      <th>2015</th>\n",
       "      <td>17238.8</td>\n",
       "      <td>71879.0</td>\n",
       "    </tr>\n",
       "    <tr>\n",
       "      <th>2016</th>\n",
       "      <td>25846.2</td>\n",
       "      <td>83073.0</td>\n",
       "    </tr>\n",
       "    <tr>\n",
       "      <th>2017</th>\n",
       "      <td>23755.0</td>\n",
       "      <td>12853.0</td>\n",
       "    </tr>\n",
       "    <tr>\n",
       "      <th>2018</th>\n",
       "      <td>35701.6</td>\n",
       "      <td>18109.0</td>\n",
       "    </tr>\n",
       "    <tr>\n",
       "      <th>2019</th>\n",
       "      <td>39587.8</td>\n",
       "      <td>28666.0</td>\n",
       "    </tr>\n",
       "    <tr>\n",
       "      <th rowspan=\"5\" valign=\"top\">RS</th>\n",
       "      <th>2015</th>\n",
       "      <td>67862.2</td>\n",
       "      <td>730.0</td>\n",
       "    </tr>\n",
       "    <tr>\n",
       "      <th>2016</th>\n",
       "      <td>57877.0</td>\n",
       "      <td>18.0</td>\n",
       "    </tr>\n",
       "    <tr>\n",
       "      <th>2017</th>\n",
       "      <td>73645.0</td>\n",
       "      <td>263.0</td>\n",
       "    </tr>\n",
       "    <tr>\n",
       "      <th>2018</th>\n",
       "      <td>67324.4</td>\n",
       "      <td>7.0</td>\n",
       "    </tr>\n",
       "    <tr>\n",
       "      <th>2019</th>\n",
       "      <td>69619.4</td>\n",
       "      <td>1355.0</td>\n",
       "    </tr>\n",
       "    <tr>\n",
       "      <th rowspan=\"5\" valign=\"top\">SP</th>\n",
       "      <th>2015</th>\n",
       "      <td>46527.4</td>\n",
       "      <td>38795.0</td>\n",
       "    </tr>\n",
       "    <tr>\n",
       "      <th>2016</th>\n",
       "      <td>40538.2</td>\n",
       "      <td>28423.0</td>\n",
       "    </tr>\n",
       "    <tr>\n",
       "      <th>2017</th>\n",
       "      <td>49534.4</td>\n",
       "      <td>3738.0</td>\n",
       "    </tr>\n",
       "    <tr>\n",
       "      <th>2018</th>\n",
       "      <td>49581.4</td>\n",
       "      <td>5244.0</td>\n",
       "    </tr>\n",
       "    <tr>\n",
       "      <th>2019</th>\n",
       "      <td>50475.6</td>\n",
       "      <td>80427.0</td>\n",
       "    </tr>\n",
       "  </tbody>\n",
       "</table>\n",
       "</div>"
      ],
      "text/plain": [
       "         mm_chuva  casos_dengue\n",
       "uf ano                         \n",
       "CE 2015    9261.4       60171.0\n",
       "   2016    6404.4       65197.0\n",
       "   2017    9304.2       66236.0\n",
       "   2018    9575.4       12841.0\n",
       "   2019    9708.0       30711.0\n",
       "ES 2015    6907.8       44808.0\n",
       "   2016    8807.0       54729.0\n",
       "   2017   10846.6       12344.0\n",
       "   2018   16790.0       16890.0\n",
       "   2019   13468.2       80593.0\n",
       "MG 2015   53407.4       21781.0\n",
       "   2016   68198.0       78366.0\n",
       "   2017   59530.8        3484.0\n",
       "   2018   82716.0        1524.0\n",
       "   2019   67792.8       26815.0\n",
       "PR 2015   35853.8       96929.0\n",
       "   2016   33012.8      210436.0\n",
       "   2017   41260.6       27893.0\n",
       "   2018   32481.6       19070.0\n",
       "   2019   33106.8      113183.0\n",
       "RJ 2015   17238.8       71879.0\n",
       "   2016   25846.2       83073.0\n",
       "   2017   23755.0       12853.0\n",
       "   2018   35701.6       18109.0\n",
       "   2019   39587.8       28666.0\n",
       "RS 2015   67862.2         730.0\n",
       "   2016   57877.0          18.0\n",
       "   2017   73645.0         263.0\n",
       "   2018   67324.4           7.0\n",
       "   2019   69619.4        1355.0\n",
       "SP 2015   46527.4       38795.0\n",
       "   2016   40538.2       28423.0\n",
       "   2017   49534.4        3738.0\n",
       "   2018   49581.4        5244.0\n",
       "   2019   50475.6       80427.0"
      ]
     },
     "execution_count": 93,
     "metadata": {},
     "output_type": "execute_result"
    }
   ],
   "source": [
    "agrupa_uf_ano = data.groupby(['uf','ano'])[['mm_chuva','casos_dengue']].sum().round(1)\n",
    "agrupa_uf_ano"
   ]
  },
  {
   "attachments": {},
   "cell_type": "markdown",
   "metadata": {},
   "source": [
    "<p>Calculando a média das precipitações e a média dos casos de dengue por UF e ano</p>"
   ]
  },
  {
   "cell_type": "code",
   "execution_count": 94,
   "metadata": {},
   "outputs": [
    {
     "data": {
      "text/html": [
       "<div>\n",
       "<style scoped>\n",
       "    .dataframe tbody tr th:only-of-type {\n",
       "        vertical-align: middle;\n",
       "    }\n",
       "\n",
       "    .dataframe tbody tr th {\n",
       "        vertical-align: top;\n",
       "    }\n",
       "\n",
       "    .dataframe thead th {\n",
       "        text-align: right;\n",
       "    }\n",
       "</style>\n",
       "<table border=\"1\" class=\"dataframe\">\n",
       "  <thead>\n",
       "    <tr style=\"text-align: right;\">\n",
       "      <th></th>\n",
       "      <th>mm_chuva</th>\n",
       "      <th>casos_dengue</th>\n",
       "    </tr>\n",
       "    <tr>\n",
       "      <th>uf</th>\n",
       "      <th></th>\n",
       "      <th></th>\n",
       "    </tr>\n",
       "  </thead>\n",
       "  <tbody>\n",
       "    <tr>\n",
       "      <th>CE</th>\n",
       "      <td>737.6</td>\n",
       "      <td>3919.3</td>\n",
       "    </tr>\n",
       "    <tr>\n",
       "      <th>ES</th>\n",
       "      <td>947.0</td>\n",
       "      <td>3489.4</td>\n",
       "    </tr>\n",
       "    <tr>\n",
       "      <th>MG</th>\n",
       "      <td>5527.4</td>\n",
       "      <td>2199.5</td>\n",
       "    </tr>\n",
       "    <tr>\n",
       "      <th>PR</th>\n",
       "      <td>2928.6</td>\n",
       "      <td>7791.8</td>\n",
       "    </tr>\n",
       "    <tr>\n",
       "      <th>RJ</th>\n",
       "      <td>2368.8</td>\n",
       "      <td>3576.3</td>\n",
       "    </tr>\n",
       "    <tr>\n",
       "      <th>RS</th>\n",
       "      <td>5605.5</td>\n",
       "      <td>39.6</td>\n",
       "    </tr>\n",
       "    <tr>\n",
       "      <th>SP</th>\n",
       "      <td>3944.3</td>\n",
       "      <td>2610.4</td>\n",
       "    </tr>\n",
       "  </tbody>\n",
       "</table>\n",
       "</div>"
      ],
      "text/plain": [
       "    mm_chuva  casos_dengue\n",
       "uf                        \n",
       "CE     737.6        3919.3\n",
       "ES     947.0        3489.4\n",
       "MG    5527.4        2199.5\n",
       "PR    2928.6        7791.8\n",
       "RJ    2368.8        3576.3\n",
       "RS    5605.5          39.6\n",
       "SP    3944.3        2610.4"
      ]
     },
     "execution_count": 94,
     "metadata": {},
     "output_type": "execute_result"
    }
   ],
   "source": [
    "agrupa_uf = data.groupby(['uf'])[['mm_chuva','casos_dengue']].mean().round(1)\n",
    "agrupa_uf"
   ]
  },
  {
   "attachments": {},
   "cell_type": "markdown",
   "metadata": {},
   "source": [
    "<p>Visualizando a média das precipitações por UF</p>"
   ]
  },
  {
   "cell_type": "code",
   "execution_count": 95,
   "metadata": {},
   "outputs": [
    {
     "data": {
      "image/png": "[encoded data removed]",
      "text/plain": [
       "<Figure size 640x480 with 1 Axes>"
      ]
     },
     "metadata": {},
     "output_type": "display_data"
    }
   ],
   "source": [
    "uf = list(agrupa_uf.index)\n",
    "mm_chuva = list(agrupa_uf['mm_chuva'])\n",
    "\n",
    "bar_container = plt.bar(x = uf, height = mm_chuva, width = 0.3, color = 'skyblue')\n",
    "plt.bar_label(bar_container)\n",
    "plt.xlabel(\"Unidades Federativas\")\n",
    "plt.ylabel(\"Precipitação em mm\")\n",
    "plt.title(\"Precipitação média das chuvas por estado\")\n",
    "plt.show()"
   ]
  },
  {
   "attachments": {},
   "cell_type": "markdown",
   "metadata": {},
   "source": [
    "<p>Visualizando a média dos casos de dengue por UF</p>"
   ]
  },
  {
   "cell_type": "code",
   "execution_count": 96,
   "metadata": {},
   "outputs": [
    {
     "data": {
      "image/png": "[encoded data removed]",
      "text/plain": [
       "<Figure size 640x480 with 1 Axes>"
      ]
     },
     "metadata": {},
     "output_type": "display_data"
    }
   ],
   "source": [
    "uf = list(agrupa_uf.index)\n",
    "casos_dengue = list(agrupa_uf['casos_dengue'])\n",
    "\n",
    "bar_container = plt.bar(x = uf, height = casos_dengue, width = 0.3, color = 'red')\n",
    "plt.bar_label(bar_container)\n",
    "plt.xlabel(\"Unidades Federativas\")\n",
    "plt.ylabel(\"Casos de dengue\")\n",
    "plt.title(\"Casos de dengue por estado\")\n",
    "plt.show()"
   ]
  },
  {
   "attachments": {},
   "cell_type": "markdown",
   "metadata": {},
   "source": [
    "<p>Provocação 01 - Como podemos visualizar no gráfico \"Precipitação média das chuvas por estado\", o estado do Rio Grande do Sul possui a maior média das precipitações, entretanto, quando visualizamos o gráfico \"Casos de dengue por estado\", o mesmo estado possui a menor média de casos de dengue. Sabendo que uma das principais formas de proliferação dos casos de dengue é através da água parada, quais fatores poderiam contribuir para uma média de casos de dengue tão baixa em um estado com a maior média de precipitações?</p>"
   ]
  },
  {
   "attachments": {},
   "cell_type": "markdown",
   "metadata": {},
   "source": [
    "<p>Separando as informações de cada UF para analisá-las separadamente</p>"
   ]
  },
  {
   "cell_type": "code",
   "execution_count": 97,
   "metadata": {},
   "outputs": [],
   "source": [
    "dados_CE = data.query(\"uf == 'CE'\")\n",
    "dados_ES = data.query(\"uf == 'ES'\")\n",
    "dados_MG = data.query(\"uf == 'MG'\")\n",
    "dados_PR = data.query(\"uf == 'PR'\")\n",
    "dados_RJ = data.query(\"uf == 'RJ'\")\n",
    "dados_RS = data.query(\"uf == 'RS'\")\n",
    "dados_SP = data.query(\"uf == 'SP'\")"
   ]
  },
  {
   "attachments": {},
   "cell_type": "markdown",
   "metadata": {},
   "source": [
    "<p>Desenvolvendo uma função para retornar: UF e números (mínimo, máximo e zerados) dos casos de dengue</p>"
   ]
  },
  {
   "cell_type": "code",
   "execution_count": 111,
   "metadata": {},
   "outputs": [],
   "source": [
    "def uf_min_max_zerados_casos_dengue(dataframe):\n",
    "    uf = str(list(dataframe['uf'])[0])\n",
    "    num_min_casos = float(dataframe['casos_dengue'].min())\n",
    "    num_max_casos = float(dataframe['casos_dengue'].max())\n",
    "    num_casos_zerados = float(dataframe.query(\"casos_dengue == 0.0\")['casos_dengue'].count())\n",
    "    return f\"UF: {uf} | Menor volume de casos: {num_min_casos} | Maior volume de casos: {num_max_casos} | Volume de casos zerados: {num_casos_zerados}\"\n",
    "\n",
    "infos_CE = uf_min_max_zerados_casos_dengue(dados_CE)\n",
    "infos_ES = uf_min_max_zerados_casos_dengue(dados_ES)\n",
    "infos_MG = uf_min_max_zerados_casos_dengue(dados_MG)\n",
    "infos_PR = uf_min_max_zerados_casos_dengue(dados_PR)\n",
    "infos_RJ = uf_min_max_zerados_casos_dengue(dados_RJ)\n",
    "infos_RS = uf_min_max_zerados_casos_dengue(dados_RS)\n",
    "infos_SP = uf_min_max_zerados_casos_dengue(dados_SP)"
   ]
  },
  {
   "attachments": {},
   "cell_type": "markdown",
   "metadata": {},
   "source": [
    "<p>Resposta a Provocação 01 - Após processar a função \"uf_min_max_zerados_casos_dengue\", podemos observar alguns comportamentos dos dados: o Rio Grande do Sul é o estado que mais possui dados zerados, ou seja, meses sem registrar informações sobre os casos de dengue. Além disso, quando comparamos a menor quantidade de registros de casos de dengue entre os estados, apenas Minas Gerais possui o volume igual ao Rio Grande do Sul, entretanto, o valor 0.0 é apresentado apenas uma vez para Minas Gerais, em contramão é apresentado 24 vezes para o Rio Grande do Sul.</p>"
   ]
  },
  {
   "cell_type": "code",
   "execution_count": 112,
   "metadata": {},
   "outputs": [
    {
     "name": "stdout",
     "output_type": "stream",
     "text": [
      "UF: CE | Menor volume de casos: 334.0 | Maior volume de casos: 22133.0 | Volume de casos zerados: 0.0 \t\n",
      "UF: ES | Menor volume de casos: 432.0 | Maior volume de casos: 17690.0 | Volume de casos zerados: 0.0 \t\n",
      "UF: MG | Menor volume de casos: 0.0 | Maior volume de casos: 23590.0 | Volume de casos zerados: 1.0 \t\n",
      "UF: PR | Menor volume de casos: 564.0 | Maior volume de casos: 56305.0 | Volume de casos zerados: 0.0 \t\n",
      "UF: RJ | Menor volume de casos: 352.0 | Maior volume de casos: 22100.0 | Volume de casos zerados: 0.0 \t\n",
      "UF: RS | Menor volume de casos: 0.0 | Maior volume de casos: 436.0 | Volume de casos zerados: 24.0 \t\n",
      "UF: SP | Menor volume de casos: 103.0 | Maior volume de casos: 25134.0 | Volume de casos zerados: 0.0 \t\n"
     ]
    }
   ],
   "source": [
    "print(infos_CE,\"\\t\")\n",
    "print(infos_ES,\"\\t\")\n",
    "print(infos_MG,\"\\t\")\n",
    "print(infos_PR,\"\\t\")\n",
    "print(infos_RJ,\"\\t\")\n",
    "print(infos_RS,\"\\t\")\n",
    "print(infos_SP,\"\\t\")"
   ]
  }
 ],
 "metadata": {
  "kernelspec": {
   "display_name": "env-beam",
   "language": "python",
   "name": "python3"
  },
  "language_info": {
   "codemirror_mode": {
    "name": "ipython",
    "version": 3
   },
   "file_extension": ".py",
   "mimetype": "text/x-python",
   "name": "python",
   "nbconvert_exporter": "python",
   "pygments_lexer": "ipython3",
   "version": "3.10.6"
  },
  "orig_nbformat": 4,
  "vscode": {
   "interpreter": {
    "hash": "500d15c4939246c809d8d80ec87614113cb5cb31cb21913d024bb17549309ee4"
   }
  }
 },
 "nbformat": 4,
 "nbformat_minor": 2
}
